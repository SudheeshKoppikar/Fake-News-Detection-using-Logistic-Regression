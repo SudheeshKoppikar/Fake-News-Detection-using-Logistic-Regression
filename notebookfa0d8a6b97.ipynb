{
 "cells": [
  {
   "cell_type": "markdown",
   "metadata": {},
   "source": [
    "#  Importing the Dependencieses\n"
   ]
  },
  {
   "cell_type": "code",
   "execution_count": null,
   "metadata": {
    "execution": {
     "iopub.execute_input": "2023-03-14T18:19:48.89407Z",
     "iopub.status.busy": "2023-03-14T18:19:48.893649Z",
     "iopub.status.idle": "2023-03-14T18:19:50.537173Z",
     "shell.execute_reply": "2023-03-14T18:19:50.536115Z",
     "shell.execute_reply.started": "2023-03-14T18:19:48.894014Z"
    }
   },
   "outputs": [],
   "source": [
    "import pandas as pd\n",
    "import numpy as np\n",
    "import re\n",
    "from matplotlib import pyplot as plt\n",
    "import seaborn as sns\n",
    "%matplotlib inline\n",
    "\n",
    "import nltk\n",
    "from nltk.corpus import stopwords\n",
    "from nltk.stem.porter import PorterStemmer\n",
    "\n",
    "from sklearn.feature_extraction.text import TfidfVectorizer\n",
    "from sklearn.feature_extraction.text import CountVectorizer\n",
    "from sklearn.feature_extraction.text import TfidfTransformer\n",
    "\n",
    "from sklearn.model_selection import train_test_split, cross_val_score\n",
    "from sklearn.metrics import confusion_matrix, classification_report, roc_curve, auc, RocCurveDisplay\n",
    "from sklearn.linear_model import LogisticRegression\n",
    "from sklearn.ensemble import RandomForestClassifier\n",
    "from sklearn.tree import DecisionTreeClassifier\n",
    "from sklearn.neighbors import KNeighborsClassifier\n",
    "from sklearn.svm import SVC\n",
    "from sklearn.naive_bayes import MultinomialNB\n",
    "\n",
    "from tpot import TPOTClassifier\n",
    "\n",
    "\n",
    "\n",
    "import warnings\n",
    "warnings.filterwarnings(\"ignore\")\n"
   ]
  },
  {
   "cell_type": "code",
   "execution_count": null,
   "metadata": {
    "execution": {
     "iopub.execute_input": "2023-03-14T18:19:50.540076Z",
     "iopub.status.busy": "2023-03-14T18:19:50.539199Z",
     "iopub.status.idle": "2023-03-14T18:19:50.586569Z",
     "shell.execute_reply": "2023-03-14T18:19:50.585431Z",
     "shell.execute_reply.started": "2023-03-14T18:19:50.540014Z"
    }
   },
   "outputs": [
    {
     "name": "stderr",
     "output_type": "stream",
     "text": [
      "[nltk_data] Downloading package stopwords to\n",
      "[nltk_data]     C:\\Users\\mak\\AppData\\Roaming\\nltk_data...\n",
      "[nltk_data]   Package stopwords is already up-to-date!\n"
     ]
    },
    {
     "data": {
      "text/plain": [
       "True"
      ]
     },
     "execution_count": 4,
     "metadata": {},
     "output_type": "execute_result"
    }
   ],
   "source": [
    "nltk.download('stopwords')"
   ]
  },
  {
   "cell_type": "code",
   "execution_count": null,
   "metadata": {
    "execution": {
     "iopub.execute_input": "2023-03-14T18:19:50.588985Z",
     "iopub.status.busy": "2023-03-14T18:19:50.588532Z",
     "iopub.status.idle": "2023-03-14T18:19:50.597488Z",
     "shell.execute_reply": "2023-03-14T18:19:50.596084Z",
     "shell.execute_reply.started": "2023-03-14T18:19:50.588944Z"
    }
   },
   "outputs": [
    {
     "name": "stdout",
     "output_type": "stream",
     "text": [
      "['a', 'about', 'above', 'after', 'again', 'against', 'ain', 'all', 'am', 'an', 'and', 'any', 'are', 'aren', \"aren't\", 'as', 'at', 'be', 'because', 'been', 'before', 'being', 'below', 'between', 'both', 'but', 'by', 'can', 'couldn', \"couldn't\", 'd', 'did', 'didn', \"didn't\", 'do', 'does', 'doesn', \"doesn't\", 'doing', 'don', \"don't\", 'down', 'during', 'each', 'few', 'for', 'from', 'further', 'had', 'hadn', \"hadn't\", 'has', 'hasn', \"hasn't\", 'have', 'haven', \"haven't\", 'having', 'he', \"he'd\", \"he'll\", 'her', 'here', 'hers', 'herself', \"he's\", 'him', 'himself', 'his', 'how', 'i', \"i'd\", 'if', \"i'll\", \"i'm\", 'in', 'into', 'is', 'isn', \"isn't\", 'it', \"it'd\", \"it'll\", \"it's\", 'its', 'itself', \"i've\", 'just', 'll', 'm', 'ma', 'me', 'mightn', \"mightn't\", 'more', 'most', 'mustn', \"mustn't\", 'my', 'myself', 'needn', \"needn't\", 'no', 'nor', 'not', 'now', 'o', 'of', 'off', 'on', 'once', 'only', 'or', 'other', 'our', 'ours', 'ourselves', 'out', 'over', 'own', 're', 's', 'same', 'shan', \"shan't\", 'she', \"she'd\", \"she'll\", \"she's\", 'should', 'shouldn', \"shouldn't\", \"should've\", 'so', 'some', 'such', 't', 'than', 'that', \"that'll\", 'the', 'their', 'theirs', 'them', 'themselves', 'then', 'there', 'these', 'they', \"they'd\", \"they'll\", \"they're\", \"they've\", 'this', 'those', 'through', 'to', 'too', 'under', 'until', 'up', 've', 'very', 'was', 'wasn', \"wasn't\", 'we', \"we'd\", \"we'll\", \"we're\", 'were', 'weren', \"weren't\", \"we've\", 'what', 'when', 'where', 'which', 'while', 'who', 'whom', 'why', 'will', 'with', 'won', \"won't\", 'wouldn', \"wouldn't\", 'y', 'you', \"you'd\", \"you'll\", 'your', \"you're\", 'yours', 'yourself', 'yourselves', \"you've\"]\n"
     ]
    }
   ],
   "source": [
    "print (stopwords.words('english'))"
   ]
  },
  {
   "cell_type": "markdown",
   "metadata": {},
   "source": [
    "# Exploratory Data Analysis¶\n"
   ]
  },
  {
   "cell_type": "code",
   "execution_count": null,
   "metadata": {
    "execution": {
     "iopub.execute_input": "2023-03-14T18:19:51.439291Z",
     "iopub.status.busy": "2023-03-14T18:19:51.438259Z",
     "iopub.status.idle": "2023-03-14T18:19:53.588571Z",
     "shell.execute_reply": "2023-03-14T18:19:53.587372Z",
     "shell.execute_reply.started": "2023-03-14T18:19:51.439241Z"
    },
    "scrolled": true
   },
   "outputs": [
    {
     "data": {
      "text/html": [
       "<div>\n",
       "<style scoped>\n",
       "    .dataframe tbody tr th:only-of-type {\n",
       "        vertical-align: middle;\n",
       "    }\n",
       "\n",
       "    .dataframe tbody tr th {\n",
       "        vertical-align: top;\n",
       "    }\n",
       "\n",
       "    .dataframe thead th {\n",
       "        text-align: right;\n",
       "    }\n",
       "</style>\n",
       "<table border=\"1\" class=\"dataframe\">\n",
       "  <thead>\n",
       "    <tr style=\"text-align: right;\">\n",
       "      <th></th>\n",
       "      <th>id</th>\n",
       "      <th>title</th>\n",
       "      <th>author</th>\n",
       "      <th>text</th>\n",
       "      <th>label</th>\n",
       "    </tr>\n",
       "  </thead>\n",
       "  <tbody>\n",
       "    <tr>\n",
       "      <th>0</th>\n",
       "      <td>0</td>\n",
       "      <td>House Dem Aide: We Didn’t Even See Comey’s Let...</td>\n",
       "      <td>Darrell Lucus</td>\n",
       "      <td>House Dem Aide: We Didn’t Even See Comey’s Let...</td>\n",
       "      <td>1</td>\n",
       "    </tr>\n",
       "    <tr>\n",
       "      <th>1</th>\n",
       "      <td>1</td>\n",
       "      <td>FLYNN: Hillary Clinton, Big Woman on Campus - ...</td>\n",
       "      <td>Daniel J. Flynn</td>\n",
       "      <td>Ever get the feeling your life circles the rou...</td>\n",
       "      <td>0</td>\n",
       "    </tr>\n",
       "    <tr>\n",
       "      <th>2</th>\n",
       "      <td>2</td>\n",
       "      <td>Why the Truth Might Get You Fired</td>\n",
       "      <td>Consortiumnews.com</td>\n",
       "      <td>Why the Truth Might Get You Fired October 29, ...</td>\n",
       "      <td>1</td>\n",
       "    </tr>\n",
       "    <tr>\n",
       "      <th>3</th>\n",
       "      <td>3</td>\n",
       "      <td>15 Civilians Killed In Single US Airstrike Hav...</td>\n",
       "      <td>Jessica Purkiss</td>\n",
       "      <td>Videos 15 Civilians Killed In Single US Airstr...</td>\n",
       "      <td>1</td>\n",
       "    </tr>\n",
       "    <tr>\n",
       "      <th>4</th>\n",
       "      <td>4</td>\n",
       "      <td>Iranian woman jailed for fictional unpublished...</td>\n",
       "      <td>Howard Portnoy</td>\n",
       "      <td>Print \\nAn Iranian woman has been sentenced to...</td>\n",
       "      <td>1</td>\n",
       "    </tr>\n",
       "  </tbody>\n",
       "</table>\n",
       "</div>"
      ],
      "text/plain": [
       "   id                                              title              author  \\\n",
       "0   0  House Dem Aide: We Didn’t Even See Comey’s Let...       Darrell Lucus   \n",
       "1   1  FLYNN: Hillary Clinton, Big Woman on Campus - ...     Daniel J. Flynn   \n",
       "2   2                  Why the Truth Might Get You Fired  Consortiumnews.com   \n",
       "3   3  15 Civilians Killed In Single US Airstrike Hav...     Jessica Purkiss   \n",
       "4   4  Iranian woman jailed for fictional unpublished...      Howard Portnoy   \n",
       "\n",
       "                                                text  label  \n",
       "0  House Dem Aide: We Didn’t Even See Comey’s Let...      1  \n",
       "1  Ever get the feeling your life circles the rou...      0  \n",
       "2  Why the Truth Might Get You Fired October 29, ...      1  \n",
       "3  Videos 15 Civilians Killed In Single US Airstr...      1  \n",
       "4  Print \\nAn Iranian woman has been sentenced to...      1  "
      ]
     },
     "execution_count": 6,
     "metadata": {},
     "output_type": "execute_result"
    }
   ],
   "source": [
    "train_news = pd.read_csv(r'C:\\Users\\mak\\Desktop\\new model 3\\train.csv')\n",
    "train_news.head()"
   ]
  },
  {
   "cell_type": "code",
   "execution_count": null,
   "metadata": {
    "execution": {
     "iopub.execute_input": "2023-03-14T18:19:53.592394Z",
     "iopub.status.busy": "2023-03-14T18:19:53.591491Z",
     "iopub.status.idle": "2023-03-14T18:19:54.156111Z",
     "shell.execute_reply": "2023-03-14T18:19:54.154513Z",
     "shell.execute_reply.started": "2023-03-14T18:19:53.592362Z"
    },
    "scrolled": true
   },
   "outputs": [
    {
     "data": {
      "text/html": [
       "<div>\n",
       "<style scoped>\n",
       "    .dataframe tbody tr th:only-of-type {\n",
       "        vertical-align: middle;\n",
       "    }\n",
       "\n",
       "    .dataframe tbody tr th {\n",
       "        vertical-align: top;\n",
       "    }\n",
       "\n",
       "    .dataframe thead th {\n",
       "        text-align: right;\n",
       "    }\n",
       "</style>\n",
       "<table border=\"1\" class=\"dataframe\">\n",
       "  <thead>\n",
       "    <tr style=\"text-align: right;\">\n",
       "      <th></th>\n",
       "      <th>id</th>\n",
       "      <th>title</th>\n",
       "      <th>author</th>\n",
       "      <th>text</th>\n",
       "      <th>label</th>\n",
       "    </tr>\n",
       "  </thead>\n",
       "  <tbody>\n",
       "    <tr>\n",
       "      <th>0</th>\n",
       "      <td>0</td>\n",
       "      <td>House Dem Aide: We Didn’t Even See Comey’s Let...</td>\n",
       "      <td>Darrell Lucus</td>\n",
       "      <td>House Dem Aide: We Didn’t Even See Comey’s Let...</td>\n",
       "      <td>1</td>\n",
       "    </tr>\n",
       "    <tr>\n",
       "      <th>1</th>\n",
       "      <td>1</td>\n",
       "      <td>FLYNN: Hillary Clinton, Big Woman on Campus - ...</td>\n",
       "      <td>Daniel J. Flynn</td>\n",
       "      <td>Ever get the feeling your life circles the rou...</td>\n",
       "      <td>0</td>\n",
       "    </tr>\n",
       "    <tr>\n",
       "      <th>2</th>\n",
       "      <td>2</td>\n",
       "      <td>Why the Truth Might Get You Fired</td>\n",
       "      <td>Consortiumnews.com</td>\n",
       "      <td>Why the Truth Might Get You Fired October 29, ...</td>\n",
       "      <td>1</td>\n",
       "    </tr>\n",
       "    <tr>\n",
       "      <th>3</th>\n",
       "      <td>3</td>\n",
       "      <td>15 Civilians Killed In Single US Airstrike Hav...</td>\n",
       "      <td>Jessica Purkiss</td>\n",
       "      <td>Videos 15 Civilians Killed In Single US Airstr...</td>\n",
       "      <td>1</td>\n",
       "    </tr>\n",
       "    <tr>\n",
       "      <th>4</th>\n",
       "      <td>4</td>\n",
       "      <td>Iranian woman jailed for fictional unpublished...</td>\n",
       "      <td>Howard Portnoy</td>\n",
       "      <td>Print \\nAn Iranian woman has been sentenced to...</td>\n",
       "      <td>1</td>\n",
       "    </tr>\n",
       "  </tbody>\n",
       "</table>\n",
       "</div>"
      ],
      "text/plain": [
       "   id                                              title              author  \\\n",
       "0   0  House Dem Aide: We Didn’t Even See Comey’s Let...       Darrell Lucus   \n",
       "1   1  FLYNN: Hillary Clinton, Big Woman on Campus - ...     Daniel J. Flynn   \n",
       "2   2                  Why the Truth Might Get You Fired  Consortiumnews.com   \n",
       "3   3  15 Civilians Killed In Single US Airstrike Hav...     Jessica Purkiss   \n",
       "4   4  Iranian woman jailed for fictional unpublished...      Howard Portnoy   \n",
       "\n",
       "                                                text  label  \n",
       "0  House Dem Aide: We Didn’t Even See Comey’s Let...      1  \n",
       "1  Ever get the feeling your life circles the rou...      0  \n",
       "2  Why the Truth Might Get You Fired October 29, ...      1  \n",
       "3  Videos 15 Civilians Killed In Single US Airstr...      1  \n",
       "4  Print \\nAn Iranian woman has been sentenced to...      1  "
      ]
     },
     "execution_count": 8,
     "metadata": {},
     "output_type": "execute_result"
    }
   ],
   "source": [
    "test_news = pd.read_csv(r'C:\\Users\\mak\\Desktop\\new model 3\\train.csv')\n",
    "test_news.head()"
   ]
  },
  {
   "cell_type": "code",
   "execution_count": null,
   "metadata": {
    "execution": {
     "iopub.execute_input": "2023-03-14T18:19:54.158691Z",
     "iopub.status.busy": "2023-03-14T18:19:54.157863Z",
     "iopub.status.idle": "2023-03-14T18:19:54.166466Z",
     "shell.execute_reply": "2023-03-14T18:19:54.165034Z",
     "shell.execute_reply.started": "2023-03-14T18:19:54.158642Z"
    }
   },
   "outputs": [
    {
     "data": {
      "text/plain": [
       "(20800, 5)"
      ]
     },
     "execution_count": 9,
     "metadata": {},
     "output_type": "execute_result"
    }
   ],
   "source": [
    "train_news.shape"
   ]
  },
  {
   "cell_type": "code",
   "execution_count": null,
   "metadata": {
    "execution": {
     "iopub.execute_input": "2023-03-14T18:19:54.172845Z",
     "iopub.status.busy": "2023-03-14T18:19:54.16925Z",
     "iopub.status.idle": "2023-03-14T18:19:54.193942Z",
     "shell.execute_reply": "2023-03-14T18:19:54.192019Z",
     "shell.execute_reply.started": "2023-03-14T18:19:54.172807Z"
    }
   },
   "outputs": [
    {
     "data": {
      "text/plain": [
       "(20800, 5)"
      ]
     },
     "execution_count": 10,
     "metadata": {},
     "output_type": "execute_result"
    }
   ],
   "source": [
    "test_news.shape\n"
   ]
  },
  {
   "cell_type": "markdown",
   "metadata": {},
   "source": [
    "- stropwords are those words which dosen't add much value to a paragraph or text can be the words such as (the, a , you , where, what ,when, etc...)\n",
    "\n"
   ]
  },
  {
   "cell_type": "code",
   "execution_count": null,
   "metadata": {
    "execution": {
     "iopub.execute_input": "2023-03-14T18:19:54.198702Z",
     "iopub.status.busy": "2023-03-14T18:19:54.197639Z",
     "iopub.status.idle": "2023-03-14T18:19:54.218271Z",
     "shell.execute_reply": "2023-03-14T18:19:54.217345Z",
     "shell.execute_reply.started": "2023-03-14T18:19:54.19866Z"
    },
    "scrolled": true
   },
   "outputs": [
    {
     "data": {
      "text/plain": [
       "id           0\n",
       "title      558\n",
       "author    1957\n",
       "text        39\n",
       "label        0\n",
       "dtype: int64"
      ]
     },
     "execution_count": 11,
     "metadata": {},
     "output_type": "execute_result"
    }
   ],
   "source": [
    "train_news.isnull().sum()\n"
   ]
  },
  {
   "cell_type": "code",
   "execution_count": null,
   "metadata": {
    "execution": {
     "iopub.execute_input": "2023-03-14T18:19:54.220758Z",
     "iopub.status.busy": "2023-03-14T18:19:54.220079Z",
     "iopub.status.idle": "2023-03-14T18:19:54.232117Z",
     "shell.execute_reply": "2023-03-14T18:19:54.231237Z",
     "shell.execute_reply.started": "2023-03-14T18:19:54.22072Z"
    },
    "scrolled": true
   },
   "outputs": [
    {
     "data": {
      "text/plain": [
       "id           0\n",
       "title      558\n",
       "author    1957\n",
       "text        39\n",
       "label        0\n",
       "dtype: int64"
      ]
     },
     "execution_count": 12,
     "metadata": {},
     "output_type": "execute_result"
    }
   ],
   "source": [
    "test_news.isnull().sum()\n"
   ]
  },
  {
   "cell_type": "markdown",
   "metadata": {},
   "source": [
    "# Data Pre-processing\n"
   ]
  },
  {
   "cell_type": "code",
   "execution_count": null,
   "metadata": {
    "execution": {
     "iopub.execute_input": "2023-03-14T18:19:54.346788Z",
     "iopub.status.busy": "2023-03-14T18:19:54.346362Z",
     "iopub.status.idle": "2023-03-14T18:19:54.375081Z",
     "shell.execute_reply": "2023-03-14T18:19:54.374108Z",
     "shell.execute_reply.started": "2023-03-14T18:19:54.34675Z"
    }
   },
   "outputs": [],
   "source": [
    "# replacing the null values with empty string\n",
    "train_news = train_news.fillna(' ')\n",
    "test_news = test_news.fillna(' ')"
   ]
  },
  {
   "cell_type": "code",
   "execution_count": null,
   "metadata": {
    "execution": {
     "iopub.execute_input": "2023-03-14T18:19:54.564617Z",
     "iopub.status.busy": "2023-03-14T18:19:54.563357Z",
     "iopub.status.idle": "2023-03-14T18:19:54.589398Z",
     "shell.execute_reply": "2023-03-14T18:19:54.588445Z",
     "shell.execute_reply.started": "2023-03-14T18:19:54.564572Z"
    }
   },
   "outputs": [],
   "source": [
    "# merging the author name and news title\n",
    "train_news['content'] = train_news['author']+' '+train_news['title']\n",
    "test_news['content'] = test_news['author']+' '+test_news['title']"
   ]
  },
  {
   "cell_type": "code",
   "execution_count": null,
   "metadata": {
    "execution": {
     "iopub.execute_input": "2023-03-14T18:19:54.768407Z",
     "iopub.status.busy": "2023-03-14T18:19:54.767384Z",
     "iopub.status.idle": "2023-03-14T18:19:54.775514Z",
     "shell.execute_reply": "2023-03-14T18:19:54.774154Z",
     "shell.execute_reply.started": "2023-03-14T18:19:54.768361Z"
    }
   },
   "outputs": [
    {
     "name": "stdout",
     "output_type": "stream",
     "text": [
      "0        Darrell Lucus House Dem Aide: We Didn’t Even S...\n",
      "1        Daniel J. Flynn FLYNN: Hillary Clinton, Big Wo...\n",
      "2        Consortiumnews.com Why the Truth Might Get You...\n",
      "3        Jessica Purkiss 15 Civilians Killed In Single ...\n",
      "4        Howard Portnoy Iranian woman jailed for fictio...\n",
      "                               ...                        \n",
      "20795    Jerome Hudson Rapper T.I.: Trump a ’Poster Chi...\n",
      "20796    Benjamin Hoffman N.F.L. Playoffs: Schedule, Ma...\n",
      "20797    Michael J. de la Merced and Rachel Abrams Macy...\n",
      "20798    Alex Ansary NATO, Russia To Hold Parallel Exer...\n",
      "20799              David Swanson What Keeps the F-35 Alive\n",
      "Name: content, Length: 20800, dtype: object\n"
     ]
    }
   ],
   "source": [
    "print(train_news['content'])"
   ]
  },
  {
   "cell_type": "code",
   "execution_count": null,
   "metadata": {
    "execution": {
     "iopub.execute_input": "2023-03-14T18:19:54.960775Z",
     "iopub.status.busy": "2023-03-14T18:19:54.959969Z",
     "iopub.status.idle": "2023-03-14T18:19:54.969849Z",
     "shell.execute_reply": "2023-03-14T18:19:54.968829Z",
     "shell.execute_reply.started": "2023-03-14T18:19:54.96073Z"
    },
    "scrolled": true
   },
   "outputs": [
    {
     "name": "stdout",
     "output_type": "stream",
     "text": [
      "0        Darrell Lucus House Dem Aide: We Didn’t Even S...\n",
      "1        Daniel J. Flynn FLYNN: Hillary Clinton, Big Wo...\n",
      "2        Consortiumnews.com Why the Truth Might Get You...\n",
      "3        Jessica Purkiss 15 Civilians Killed In Single ...\n",
      "4        Howard Portnoy Iranian woman jailed for fictio...\n",
      "                               ...                        \n",
      "20795    Jerome Hudson Rapper T.I.: Trump a ’Poster Chi...\n",
      "20796    Benjamin Hoffman N.F.L. Playoffs: Schedule, Ma...\n",
      "20797    Michael J. de la Merced and Rachel Abrams Macy...\n",
      "20798    Alex Ansary NATO, Russia To Hold Parallel Exer...\n",
      "20799              David Swanson What Keeps the F-35 Alive\n",
      "Name: content, Length: 20800, dtype: object\n"
     ]
    }
   ],
   "source": [
    "print(test_news['content'])"
   ]
  },
  {
   "cell_type": "markdown",
   "metadata": {},
   "source": [
    "# Stemming:\n",
    "\n",
    "Stemming is the process of reducing a word to its Root word\n",
    "\n",
    "example:\n",
    "actor, actress, acting --> act"
   ]
  },
  {
   "cell_type": "code",
   "execution_count": null,
   "metadata": {
    "execution": {
     "iopub.execute_input": "2023-03-14T18:19:55.545629Z",
     "iopub.status.busy": "2023-03-14T18:19:55.544472Z",
     "iopub.status.idle": "2023-03-14T18:19:55.550868Z",
     "shell.execute_reply": "2023-03-14T18:19:55.549481Z",
     "shell.execute_reply.started": "2023-03-14T18:19:55.545587Z"
    }
   },
   "outputs": [],
   "source": [
    "port_stem = PorterStemmer()"
   ]
  },
  {
   "cell_type": "code",
   "execution_count": null,
   "metadata": {
    "execution": {
     "iopub.execute_input": "2023-03-14T18:19:55.722565Z",
     "iopub.status.busy": "2023-03-14T18:19:55.721823Z",
     "iopub.status.idle": "2023-03-14T18:19:55.729017Z",
     "shell.execute_reply": "2023-03-14T18:19:55.727785Z",
     "shell.execute_reply.started": "2023-03-14T18:19:55.722522Z"
    }
   },
   "outputs": [],
   "source": [
    "def stemming(content):\n",
    "    stemmed_content = re.sub('^a-zA-Z', ' ', content)\n",
    "    stemmed_content = stemmed_content.lower()\n",
    "    stemmed_content = stemmed_content.split()\n",
    "    stemmed_content = [port_stem.stem(word) for word in stemmed_content if not word in stopwords.words('english')]\n",
    "    stemmed_content = ' '.join(stemmed_content)\n",
    "    return stemmed_content"
   ]
  },
  {
   "cell_type": "code",
   "execution_count": null,
   "metadata": {
    "execution": {
     "iopub.execute_input": "2023-03-14T18:19:55.89093Z",
     "iopub.status.busy": "2023-03-14T18:19:55.890014Z",
     "iopub.status.idle": "2023-03-14T18:20:49.665708Z",
     "shell.execute_reply": "2023-03-14T18:20:49.664565Z",
     "shell.execute_reply.started": "2023-03-14T18:19:55.89088Z"
    }
   },
   "outputs": [],
   "source": [
    "train_news['content'] = train_news['content'].apply(stemming)\n",
    "test_news['content'] = test_news['content'].apply(stemming)\n"
   ]
  },
  {
   "cell_type": "code",
   "execution_count": null,
   "metadata": {
    "execution": {
     "iopub.execute_input": "2023-03-14T18:20:49.668597Z",
     "iopub.status.busy": "2023-03-14T18:20:49.667892Z",
     "iopub.status.idle": "2023-03-14T18:20:49.675647Z",
     "shell.execute_reply": "2023-03-14T18:20:49.67457Z",
     "shell.execute_reply.started": "2023-03-14T18:20:49.668556Z"
    }
   },
   "outputs": [
    {
     "name": "stdout",
     "output_type": "stream",
     "text": [
      "0        darrel lucu hous dem aide: didn’t even see com...\n",
      "1        daniel j. flynn flynn: hillari clinton, big wo...\n",
      "2                  consortiumnews.com truth might get fire\n",
      "3        jessica purkiss 15 civilian kill singl us airs...\n",
      "4        howard portnoy iranian woman jail fiction unpu...\n",
      "                               ...                        \n",
      "20795    jerom hudson rapper t.i.: trump ’poster child ...\n",
      "20796    benjamin hoffman n.f.l. playoffs: schedule, ma...\n",
      "20797    michael j. de la merc rachel abram macy’ said ...\n",
      "20798    alex ansari nato, russia hold parallel exercis...\n",
      "20799                         david swanson keep f-35 aliv\n",
      "Name: content, Length: 20800, dtype: object\n"
     ]
    }
   ],
   "source": [
    "print(train_news['content'])"
   ]
  },
  {
   "cell_type": "code",
   "execution_count": null,
   "metadata": {
    "execution": {
     "iopub.execute_input": "2023-03-14T18:20:49.677796Z",
     "iopub.status.busy": "2023-03-14T18:20:49.677133Z",
     "iopub.status.idle": "2023-03-14T18:20:49.690232Z",
     "shell.execute_reply": "2023-03-14T18:20:49.688927Z",
     "shell.execute_reply.started": "2023-03-14T18:20:49.677756Z"
    }
   },
   "outputs": [
    {
     "name": "stdout",
     "output_type": "stream",
     "text": [
      "0        darrel lucu hous dem aide: didn’t even see com...\n",
      "1        daniel j. flynn flynn: hillari clinton, big wo...\n",
      "2                  consortiumnews.com truth might get fire\n",
      "3        jessica purkiss 15 civilian kill singl us airs...\n",
      "4        howard portnoy iranian woman jail fiction unpu...\n",
      "                               ...                        \n",
      "20795    jerom hudson rapper t.i.: trump ’poster child ...\n",
      "20796    benjamin hoffman n.f.l. playoffs: schedule, ma...\n",
      "20797    michael j. de la merc rachel abram macy’ said ...\n",
      "20798    alex ansari nato, russia hold parallel exercis...\n",
      "20799                         david swanson keep f-35 aliv\n",
      "Name: content, Length: 20800, dtype: object\n"
     ]
    }
   ],
   "source": [
    "print(test_news['content'])"
   ]
  },
  {
   "cell_type": "code",
   "execution_count": null,
   "metadata": {
    "execution": {
     "iopub.execute_input": "2023-03-14T18:20:49.693813Z",
     "iopub.status.busy": "2023-03-14T18:20:49.693253Z",
     "iopub.status.idle": "2023-03-14T18:20:49.700579Z",
     "shell.execute_reply": "2023-03-14T18:20:49.69947Z",
     "shell.execute_reply.started": "2023-03-14T18:20:49.693772Z"
    }
   },
   "outputs": [],
   "source": [
    "#separating the data and label\n",
    "X = train_news['content'].values\n",
    "Y = train_news['label'].values\n"
   ]
  },
  {
   "cell_type": "code",
   "execution_count": null,
   "metadata": {
    "execution": {
     "iopub.execute_input": "2023-03-14T18:20:49.70264Z",
     "iopub.status.busy": "2023-03-14T18:20:49.702275Z",
     "iopub.status.idle": "2023-03-14T18:20:49.711209Z",
     "shell.execute_reply": "2023-03-14T18:20:49.710002Z",
     "shell.execute_reply.started": "2023-03-14T18:20:49.702602Z"
    }
   },
   "outputs": [
    {
     "name": "stdout",
     "output_type": "stream",
     "text": [
      "['darrel lucu hous dem aide: didn’t even see comey’ letter jason chaffetz tweet'\n",
      " 'daniel j. flynn flynn: hillari clinton, big woman campu - breitbart'\n",
      " 'consortiumnews.com truth might get fire' ...\n",
      " 'michael j. de la merc rachel abram macy’ said receiv takeov approach hudson’ bay - new york time'\n",
      " 'alex ansari nato, russia hold parallel exercis balkan'\n",
      " 'david swanson keep f-35 aliv']\n"
     ]
    }
   ],
   "source": [
    "print(X)\n"
   ]
  },
  {
   "cell_type": "code",
   "execution_count": null,
   "metadata": {
    "execution": {
     "iopub.execute_input": "2023-03-14T18:20:49.714271Z",
     "iopub.status.busy": "2023-03-14T18:20:49.712821Z",
     "iopub.status.idle": "2023-03-14T18:20:49.721397Z",
     "shell.execute_reply": "2023-03-14T18:20:49.720198Z",
     "shell.execute_reply.started": "2023-03-14T18:20:49.714232Z"
    }
   },
   "outputs": [
    {
     "name": "stdout",
     "output_type": "stream",
     "text": [
      "[1 0 1 ... 0 1 1]\n"
     ]
    }
   ],
   "source": [
    "print(Y)"
   ]
  },
  {
   "cell_type": "code",
   "execution_count": null,
   "metadata": {
    "execution": {
     "iopub.execute_input": "2023-03-14T18:20:49.724434Z",
     "iopub.status.busy": "2023-03-14T18:20:49.723987Z",
     "iopub.status.idle": "2023-03-14T18:20:49.731574Z",
     "shell.execute_reply": "2023-03-14T18:20:49.730439Z",
     "shell.execute_reply.started": "2023-03-14T18:20:49.724407Z"
    }
   },
   "outputs": [
    {
     "data": {
      "text/plain": [
       "(20800,)"
      ]
     },
     "execution_count": 25,
     "metadata": {},
     "output_type": "execute_result"
    }
   ],
   "source": [
    "Y.shape"
   ]
  },
  {
   "cell_type": "markdown",
   "metadata": {},
   "source": [
    "# Converting the Textual Data to Numerical Data\n"
   ]
  },
  {
   "cell_type": "code",
   "execution_count": null,
   "metadata": {
    "execution": {
     "iopub.execute_input": "2023-03-14T18:20:49.734262Z",
     "iopub.status.busy": "2023-03-14T18:20:49.733542Z",
     "iopub.status.idle": "2023-03-14T18:20:50.584999Z",
     "shell.execute_reply": "2023-03-14T18:20:50.583889Z",
     "shell.execute_reply.started": "2023-03-14T18:20:49.734224Z"
    }
   },
   "outputs": [],
   "source": [
    "transformer = TfidfTransformer(smooth_idf=False)\n",
    "count_vectorizer = CountVectorizer(ngram_range=(1, 2))\n",
    "counts = count_vectorizer.fit_transform(train_news['content'].values)\n",
    "X = transformer.fit_transform(counts)"
   ]
  },
  {
   "cell_type": "code",
   "execution_count": null,
   "metadata": {
    "execution": {
     "iopub.execute_input": "2023-03-14T18:20:50.58722Z",
     "iopub.status.busy": "2023-03-14T18:20:50.586799Z",
     "iopub.status.idle": "2023-03-14T18:20:50.717193Z",
     "shell.execute_reply": "2023-03-14T18:20:50.716105Z",
     "shell.execute_reply.started": "2023-03-14T18:20:50.58718Z"
    }
   },
   "outputs": [],
   "source": [
    "Y = train_news['label'].values\n",
    "test_counts = count_vectorizer.transform(test_news['content'].values)\n",
    "test_tfidf = transformer.fit_transform(test_counts)"
   ]
  },
  {
   "cell_type": "code",
   "execution_count": null,
   "metadata": {
    "execution": {
     "iopub.execute_input": "2023-03-14T18:20:50.722695Z",
     "iopub.status.busy": "2023-03-14T18:20:50.722376Z",
     "iopub.status.idle": "2023-03-14T18:20:50.734313Z",
     "shell.execute_reply": "2023-03-14T18:20:50.732963Z",
     "shell.execute_reply.started": "2023-03-14T18:20:50.722665Z"
    },
    "scrolled": true
   },
   "outputs": [
    {
     "name": "stdout",
     "output_type": "stream",
     "text": [
      "<Compressed Sparse Row sparse matrix of dtype 'float64'\n",
      "\twith 417882 stored elements and shape (20800, 149830)>\n",
      "  Coords\tValues\n",
      "  (0, 4863)\t0.2165218927332343\n",
      "  (0, 4864)\t0.24793148653615255\n",
      "  (0, 22399)\t0.1981484581956435\n",
      "  (0, 22406)\t0.24793148653615255\n",
      "  (0, 27411)\t0.13156850672059783\n",
      "  (0, 27477)\t0.1981484581956435\n",
      "  (0, 33009)\t0.19360181557096778\n",
      "  (0, 33010)\t0.1957612804846955\n",
      "  (0, 35095)\t0.14597825214418644\n",
      "  (0, 35099)\t0.24793148653615255\n",
      "  (0, 36686)\t0.15975360877369998\n",
      "  (0, 36696)\t0.22303997236589798\n",
      "  (0, 44034)\t0.12432900707468589\n",
      "  (0, 44092)\t0.24793148653615255\n",
      "  (0, 61904)\t0.11915729770198633\n",
      "  (0, 61944)\t0.24793148653615255\n",
      "  (0, 67774)\t0.1321079901265965\n",
      "  (0, 67778)\t0.1981484581956435\n",
      "  (0, 74774)\t0.1559330847550666\n",
      "  (0, 74796)\t0.24793148653615255\n",
      "  (0, 77607)\t0.1957612804846955\n",
      "  (0, 77614)\t0.24793148653615255\n",
      "  (0, 115793)\t0.13747300677495586\n",
      "  (0, 115804)\t0.24793148653615255\n",
      "  (0, 135924)\t0.15884719860180038\n",
      "  :\t:\n",
      "  (20797, 146965)\t0.04889695039447585\n",
      "  (20798, 5477)\t0.17329205116131682\n",
      "  (20798, 5478)\t0.18940815584156476\n",
      "  (20798, 7739)\t0.18905688772617318\n",
      "  (20798, 7780)\t0.29702474374530186\n",
      "  (20798, 11805)\t0.27693784812376165\n",
      "  (20798, 44791)\t0.2568509525022214\n",
      "  (20798, 44792)\t0.3171116393668421\n",
      "  (20798, 60981)\t0.1989476024555316\n",
      "  (20798, 61017)\t0.3171116393668421\n",
      "  (20798, 87331)\t0.19399337117058932\n",
      "  (20798, 87367)\t0.29702474374530186\n",
      "  (20798, 94508)\t0.2852746630508008\n",
      "  (20798, 94509)\t0.3171116393668421\n",
      "  (20798, 112033)\t0.13565821442973863\n",
      "  (20798, 112142)\t0.3171116393668421\n",
      "  (20799, 1511)\t0.3233091194528707\n",
      "  (20799, 1512)\t0.389551950276176\n",
      "  (20799, 5674)\t0.3165086369202432\n",
      "  (20799, 33241)\t0.20538477686139214\n",
      "  (20799, 33306)\t0.3233091194528707\n",
      "  (20799, 69980)\t0.24923790049632386\n",
      "  (20799, 69982)\t0.389551950276176\n",
      "  (20799, 127037)\t0.3089481722249457\n",
      "  (20799, 127043)\t0.4330263902498437\n"
     ]
    }
   ],
   "source": [
    "print(X)"
   ]
  },
  {
   "cell_type": "code",
   "execution_count": null,
   "metadata": {
    "execution": {
     "iopub.execute_input": "2023-03-14T18:20:50.736777Z",
     "iopub.status.busy": "2023-03-14T18:20:50.7359Z",
     "iopub.status.idle": "2023-03-14T18:20:50.743805Z",
     "shell.execute_reply": "2023-03-14T18:20:50.742635Z",
     "shell.execute_reply.started": "2023-03-14T18:20:50.736737Z"
    }
   },
   "outputs": [
    {
     "data": {
      "text/plain": [
       "(20800, 149830)"
      ]
     },
     "execution_count": 29,
     "metadata": {},
     "output_type": "execute_result"
    }
   ],
   "source": [
    "X.shape"
   ]
  },
  {
   "cell_type": "code",
   "execution_count": null,
   "metadata": {
    "execution": {
     "iopub.execute_input": "2023-03-14T18:20:50.745914Z",
     "iopub.status.busy": "2023-03-14T18:20:50.745476Z",
     "iopub.status.idle": "2023-03-14T18:20:50.753868Z",
     "shell.execute_reply": "2023-03-14T18:20:50.752438Z",
     "shell.execute_reply.started": "2023-03-14T18:20:50.745874Z"
    },
    "scrolled": true
   },
   "outputs": [
    {
     "name": "stdout",
     "output_type": "stream",
     "text": [
      "<Compressed Sparse Row sparse matrix of dtype 'float64'\n",
      "\twith 417882 stored elements and shape (20800, 149830)>\n",
      "  Coords\tValues\n",
      "  (0, 4863)\t0.2165218927332343\n",
      "  (0, 4864)\t0.24793148653615255\n",
      "  (0, 22399)\t0.1981484581956435\n",
      "  (0, 22406)\t0.24793148653615255\n",
      "  (0, 27411)\t0.13156850672059783\n",
      "  (0, 27477)\t0.1981484581956435\n",
      "  (0, 33009)\t0.19360181557096778\n",
      "  (0, 33010)\t0.1957612804846955\n",
      "  (0, 35095)\t0.14597825214418644\n",
      "  (0, 35099)\t0.24793148653615255\n",
      "  (0, 36686)\t0.15975360877369998\n",
      "  (0, 36696)\t0.22303997236589798\n",
      "  (0, 44034)\t0.12432900707468589\n",
      "  (0, 44092)\t0.24793148653615255\n",
      "  (0, 61904)\t0.11915729770198633\n",
      "  (0, 61944)\t0.24793148653615255\n",
      "  (0, 67774)\t0.1321079901265965\n",
      "  (0, 67778)\t0.1981484581956435\n",
      "  (0, 74774)\t0.1559330847550666\n",
      "  (0, 74796)\t0.24793148653615255\n",
      "  (0, 77607)\t0.1957612804846955\n",
      "  (0, 77614)\t0.24793148653615255\n",
      "  (0, 115793)\t0.13747300677495586\n",
      "  (0, 115804)\t0.24793148653615255\n",
      "  (0, 135924)\t0.15884719860180038\n",
      "  :\t:\n",
      "  (20797, 146965)\t0.04889695039447585\n",
      "  (20798, 5477)\t0.17329205116131682\n",
      "  (20798, 5478)\t0.18940815584156476\n",
      "  (20798, 7739)\t0.18905688772617318\n",
      "  (20798, 7780)\t0.29702474374530186\n",
      "  (20798, 11805)\t0.27693784812376165\n",
      "  (20798, 44791)\t0.2568509525022214\n",
      "  (20798, 44792)\t0.3171116393668421\n",
      "  (20798, 60981)\t0.1989476024555316\n",
      "  (20798, 61017)\t0.3171116393668421\n",
      "  (20798, 87331)\t0.19399337117058932\n",
      "  (20798, 87367)\t0.29702474374530186\n",
      "  (20798, 94508)\t0.2852746630508008\n",
      "  (20798, 94509)\t0.3171116393668421\n",
      "  (20798, 112033)\t0.13565821442973863\n",
      "  (20798, 112142)\t0.3171116393668421\n",
      "  (20799, 1511)\t0.3233091194528707\n",
      "  (20799, 1512)\t0.389551950276176\n",
      "  (20799, 5674)\t0.3165086369202432\n",
      "  (20799, 33241)\t0.20538477686139214\n",
      "  (20799, 33306)\t0.3233091194528707\n",
      "  (20799, 69980)\t0.24923790049632386\n",
      "  (20799, 69982)\t0.389551950276176\n",
      "  (20799, 127037)\t0.3089481722249457\n",
      "  (20799, 127043)\t0.4330263902498437\n"
     ]
    }
   ],
   "source": [
    "print(test_tfidf)"
   ]
  },
  {
   "cell_type": "code",
   "execution_count": null,
   "metadata": {
    "execution": {
     "iopub.execute_input": "2023-03-14T18:20:50.756341Z",
     "iopub.status.busy": "2023-03-14T18:20:50.755703Z",
     "iopub.status.idle": "2023-03-14T18:20:50.764928Z",
     "shell.execute_reply": "2023-03-14T18:20:50.763868Z",
     "shell.execute_reply.started": "2023-03-14T18:20:50.756304Z"
    }
   },
   "outputs": [
    {
     "data": {
      "text/plain": [
       "(20800, 149830)"
      ]
     },
     "execution_count": 31,
     "metadata": {},
     "output_type": "execute_result"
    }
   ],
   "source": [
    "test_tfidf.shape"
   ]
  },
  {
   "cell_type": "markdown",
   "metadata": {},
   "source": [
    "# Spliting the data into training and testing data\n"
   ]
  },
  {
   "cell_type": "code",
   "execution_count": null,
   "metadata": {
    "execution": {
     "iopub.execute_input": "2023-03-14T18:20:50.767337Z",
     "iopub.status.busy": "2023-03-14T18:20:50.766291Z",
     "iopub.status.idle": "2023-03-14T18:20:50.789703Z",
     "shell.execute_reply": "2023-03-14T18:20:50.788627Z",
     "shell.execute_reply.started": "2023-03-14T18:20:50.767295Z"
    }
   },
   "outputs": [],
   "source": [
    "X_train, X_test, Y_train, Y_test = train_test_split(X, Y, test_size = 0.2, stratify=Y, random_state=42)"
   ]
  },
  {
   "cell_type": "code",
   "execution_count": null,
   "metadata": {
    "execution": {
     "iopub.execute_input": "2023-03-14T18:20:50.792182Z",
     "iopub.status.busy": "2023-03-14T18:20:50.791138Z",
     "iopub.status.idle": "2023-03-14T18:20:50.798202Z",
     "shell.execute_reply": "2023-03-14T18:20:50.797095Z",
     "shell.execute_reply.started": "2023-03-14T18:20:50.792142Z"
    }
   },
   "outputs": [
    {
     "name": "stdout",
     "output_type": "stream",
     "text": [
      "Number of Training dataset: 16640\n",
      "Number of Testing dataset: 4160\n"
     ]
    }
   ],
   "source": [
    "print(f\"Number of Training dataset: {X_train.shape[0]}\\nNumber of Testing dataset: {X_test.shape[0]}\")\n"
   ]
  },
  {
   "cell_type": "code",
   "execution_count": null,
   "metadata": {
    "execution": {
     "iopub.execute_input": "2023-03-14T18:20:50.800514Z",
     "iopub.status.busy": "2023-03-14T18:20:50.799596Z",
     "iopub.status.idle": "2023-03-14T18:20:50.812215Z",
     "shell.execute_reply": "2023-03-14T18:20:50.811358Z",
     "shell.execute_reply.started": "2023-03-14T18:20:50.800478Z"
    }
   },
   "outputs": [],
   "source": [
    "def kfolds(model, model_name):\n",
    "    scores = cross_val_score(model, X, Y, cv=10)\n",
    "    model_score = np.average(scores)\n",
    "    print(f\"{model_name} score on cross validation: {model_score * 100:.2f}%\")\n",
    "\n",
    "def train(model, model_name):\n",
    "    model.fit(X_train, Y_train)\n",
    "    train_score = model.score(X_train, Y_train)\n",
    "    test_score = model.score(X_test, Y_test)\n",
    "    print(f\"{model_name} model score on Training data: {train_score * 100:.2f}%\")\n",
    "    print(f\"{model_name} model score on Testing data: {test_score * 100:.2f}%\")\n",
    "\n",
    "def conf_matrix(model):\n",
    "    Y_pred = model.predict(X_test)\n",
    "    cm = confusion_matrix(Y_test, Y_pred)\n",
    "    plt.figure(figsize=(8, 5))\n",
    "    sns.heatmap(cm, annot=True, fmt='d', cmap='Blues')\n",
    "    plt.title('Confusion Matrix')\n",
    "    plt.xlabel('Predicted')\n",
    "    plt.ylabel('Actual')\n",
    "    plt.show()\n",
    "\n",
    "def class_report(model):\n",
    "    Y_pred = model.predict(X_test)\n",
    "    print(classification_report(Y_test, Y_pred))\n",
    "\n",
    "def roc(model, model_name):\n",
    "    Y_prob = model.predict_proba(X_test)[:, 1]\n",
    "    fpr, tpr, _ = roc_curve(Y_test, Y_prob)\n",
    "    roc_auc = auc(fpr, tpr)\n",
    "    plt.figure(figsize=(5, 5), dpi=100)\n",
    "    plt.plot(fpr, tpr, color=\"darkorange\", label=f'{model_name} (AUC = {roc_auc:.3f})')\n",
    "    plt.plot([0, 1], [0, 1], color=\"navy\", lw=2, linestyle=\"--\")\n",
    "    plt.xlabel('False Positive Rate')\n",
    "    plt.ylabel('True Positive Rate')\n",
    "    plt.title('ROC Curve')\n",
    "    plt.legend()\n",
    "    plt.show()"
   ]
  },
  {
   "cell_type": "markdown",
   "metadata": {},
   "source": [
    "# Logistic Regression\n"
   ]
  },
  {
   "cell_type": "code",
   "execution_count": null,
   "metadata": {
    "execution": {
     "iopub.execute_input": "2023-03-14T18:20:50.814479Z",
     "iopub.status.busy": "2023-03-14T18:20:50.813388Z",
     "iopub.status.idle": "2023-03-14T18:20:53.13423Z",
     "shell.execute_reply": "2023-03-14T18:20:53.133097Z",
     "shell.execute_reply.started": "2023-03-14T18:20:50.81444Z"
    }
   },
   "outputs": [
    {
     "name": "stdout",
     "output_type": "stream",
     "text": [
      "Logistic Regression model score on Training data: 99.04447115384616%\n",
      "Logistic Regression model score on Testing data: 96.77884615384616%\n"
     ]
    }
   ],
   "source": [
    "log_model = LogisticRegression()\n",
    "train(log_model, \"Logistic Regression\")"
   ]
  },
  {
   "cell_type": "code",
   "execution_count": null,
   "metadata": {
    "execution": {
     "iopub.execute_input": "2023-03-14T18:20:53.136824Z",
     "iopub.status.busy": "2023-03-14T18:20:53.136022Z",
     "iopub.status.idle": "2023-03-14T18:20:53.571277Z",
     "shell.execute_reply": "2023-03-14T18:20:53.57013Z",
     "shell.execute_reply.started": "2023-03-14T18:20:53.136781Z"
    }
   },
   "outputs": [
    {
     "data": {
      "image/png": "[encoded data removed]",
      "text/plain": [
       "<Figure size 800x500 with 2 Axes>"
      ]
     },
     "metadata": {},
     "output_type": "display_data"
    }
   ],
   "source": [
    "conf_matrix(log_model)"
   ]
  },
  {
   "cell_type": "code",
   "execution_count": null,
   "metadata": {
    "execution": {
     "iopub.execute_input": "2023-03-14T18:20:53.576616Z",
     "iopub.status.busy": "2023-03-14T18:20:53.575527Z",
     "iopub.status.idle": "2023-03-14T18:20:53.603632Z",
     "shell.execute_reply": "2023-03-14T18:20:53.602526Z",
     "shell.execute_reply.started": "2023-03-14T18:20:53.576575Z"
    }
   },
   "outputs": [
    {
     "name": "stdout",
     "output_type": "stream",
     "text": [
      "              precision    recall  f1-score   support\n",
      "\n",
      "           0       0.99      0.94      0.97      2077\n",
      "           1       0.94      0.99      0.97      2083\n",
      "\n",
      "    accuracy                           0.97      4160\n",
      "   macro avg       0.97      0.97      0.97      4160\n",
      "weighted avg       0.97      0.97      0.97      4160\n",
      "\n"
     ]
    }
   ],
   "source": [
    "class_report(log_model)"
   ]
  },
  {
   "cell_type": "code",
   "execution_count": null,
   "metadata": {
    "execution": {
     "iopub.execute_input": "2023-03-14T18:20:53.611413Z",
     "iopub.status.busy": "2023-03-14T18:20:53.608646Z",
     "iopub.status.idle": "2023-03-14T18:20:53.911774Z",
     "shell.execute_reply": "2023-03-14T18:20:53.910729Z",
     "shell.execute_reply.started": "2023-03-14T18:20:53.611367Z"
    }
   },
   "outputs": [
    {
     "data": {
      "image/png": "[encoded data removed]",
      "text/plain": [
       "<Figure size 500x500 with 1 Axes>"
      ]
     },
     "metadata": {},
     "output_type": "display_data"
    }
   ],
   "source": [
    "roc(log_model, 'Logistic_Regression')"
   ]
  },
  {
   "cell_type": "markdown",
   "metadata": {},
   "source": [
    "# Making Predictions\n",
    "\n"
   ]
  },
  {
   "cell_type": "markdown",
   "metadata": {},
   "source": [
    "### Logistic Regression Prediction\n",
    "\n",
    "\n",
    "\n"
   ]
  },
  {
   "cell_type": "code",
   "execution_count": null,
   "metadata": {
    "execution": {
     "iopub.execute_input": "2023-03-14T18:25:58.73264Z",
     "iopub.status.busy": "2023-03-14T18:25:58.731927Z",
     "iopub.status.idle": "2023-03-14T18:25:58.741302Z",
     "shell.execute_reply": "2023-03-14T18:25:58.740533Z",
     "shell.execute_reply.started": "2023-03-14T18:25:58.732598Z"
    }
   },
   "outputs": [],
   "source": [
    "# Make predictions --> Logistic Regression\n",
    "predictions = log_model.predict(test_tfidf)\n",
    "# Submissions\n",
    "test_ID = test_news.id\n",
    "submission = pd.DataFrame({'id' : test_ID, 'label' : predictions})"
   ]
  },
  {
   "cell_type": "markdown",
   "metadata": {},
   "source": [
    "- The submission file will consist of the ID column and a label column. We can just copy the ID column from the test file, make it a dataframe, and then add our label column.\n",
    "\n"
   ]
  },
  {
   "cell_type": "code",
   "execution_count": null,
   "metadata": {
    "execution": {
     "iopub.execute_input": "2023-03-14T18:25:58.743473Z",
     "iopub.status.busy": "2023-03-14T18:25:58.742452Z",
     "iopub.status.idle": "2023-03-14T18:25:58.751628Z",
     "shell.execute_reply": "2023-03-14T18:25:58.75084Z",
     "shell.execute_reply.started": "2023-03-14T18:25:58.743434Z"
    }
   },
   "outputs": [],
   "source": [
    "# submission = test_news.id.copy().to_frame()\n",
    "# submission['prediction'] = predictions"
   ]
  },
  {
   "cell_type": "code",
   "execution_count": null,
   "metadata": {
    "execution": {
     "iopub.execute_input": "2023-03-14T18:25:58.755283Z",
     "iopub.status.busy": "2023-03-14T18:25:58.752777Z",
     "iopub.status.idle": "2023-03-14T18:25:58.768479Z",
     "shell.execute_reply": "2023-03-14T18:25:58.767485Z",
     "shell.execute_reply.started": "2023-03-14T18:25:58.755244Z"
    }
   },
   "outputs": [
    {
     "data": {
      "text/html": [
       "<div>\n",
       "<style scoped>\n",
       "    .dataframe tbody tr th:only-of-type {\n",
       "        vertical-align: middle;\n",
       "    }\n",
       "\n",
       "    .dataframe tbody tr th {\n",
       "        vertical-align: top;\n",
       "    }\n",
       "\n",
       "    .dataframe thead th {\n",
       "        text-align: right;\n",
       "    }\n",
       "</style>\n",
       "<table border=\"1\" class=\"dataframe\">\n",
       "  <thead>\n",
       "    <tr style=\"text-align: right;\">\n",
       "      <th></th>\n",
       "      <th>id</th>\n",
       "      <th>label</th>\n",
       "    </tr>\n",
       "  </thead>\n",
       "  <tbody>\n",
       "    <tr>\n",
       "      <th>0</th>\n",
       "      <td>0</td>\n",
       "      <td>1</td>\n",
       "    </tr>\n",
       "    <tr>\n",
       "      <th>1</th>\n",
       "      <td>1</td>\n",
       "      <td>0</td>\n",
       "    </tr>\n",
       "    <tr>\n",
       "      <th>2</th>\n",
       "      <td>2</td>\n",
       "      <td>1</td>\n",
       "    </tr>\n",
       "    <tr>\n",
       "      <th>3</th>\n",
       "      <td>3</td>\n",
       "      <td>1</td>\n",
       "    </tr>\n",
       "    <tr>\n",
       "      <th>4</th>\n",
       "      <td>4</td>\n",
       "      <td>1</td>\n",
       "    </tr>\n",
       "  </tbody>\n",
       "</table>\n",
       "</div>"
      ],
      "text/plain": [
       "   id  label\n",
       "0   0      1\n",
       "1   1      0\n",
       "2   2      1\n",
       "3   3      1\n",
       "4   4      1"
      ]
     },
     "execution_count": 42,
     "metadata": {},
     "output_type": "execute_result"
    }
   ],
   "source": [
    "submission.head()\n"
   ]
  },
  {
   "cell_type": "code",
   "execution_count": null,
   "metadata": {
    "execution": {
     "iopub.execute_input": "2023-03-14T18:25:58.770361Z",
     "iopub.status.busy": "2023-03-14T18:25:58.769967Z",
     "iopub.status.idle": "2023-03-14T18:25:58.786677Z",
     "shell.execute_reply": "2023-03-14T18:25:58.785773Z",
     "shell.execute_reply.started": "2023-03-14T18:25:58.770333Z"
    }
   },
   "outputs": [],
   "source": [
    "submission.to_csv(\"./Logistic Regression.csv\", index=False) # Convert the submissions to .csv\n"
   ]
  },
  {
   "cell_type": "code",
   "execution_count": null,
   "metadata": {},
   "outputs": [],
   "source": [
    "import pickle\n",
    "\n",
    "# Save the trained Logistic Regression model\n",
    "with open(r\"C:\\Users\\mak\\Desktop\\new model 3\\fake_news_model.pkl\", \"wb\") as model_file:\n",
    "    pickle.dump(log_model, model_file)\n",
    "\n",
    "# Save the CountVectorizer\n",
    "with open(r\"C:\\Users\\mak\\Desktop\\new model 3\\count_vectorizer.pkl\", \"wb\") as count_vec_file:\n",
    "    pickle.dump(count_vectorizer, count_vec_file)\n",
    "\n",
    "# Save the TfidfTransformer\n",
    "with open(r\"C:\\Users\\mak\\Desktop\\new model 3\\tfidf_transformer.pkl\", \"wb\") as tfidf_file:\n",
    "    pickle.dump(transformer, tfidf_file)\n",
    "\n",
    "\n",
    "\n",
    "\n",
    "\n"
   ]
  },
  {
   "cell_type": "code",
   "execution_count": null,
   "metadata": {},
   "outputs": [],
   "source": []
  }
 ],
 "metadata": {
  "kaggle": {
   "accelerator": "none",
   "dataSources": [
    {
     "datasetId": 3001710,
     "sourceId": 5165070,
     "sourceType": "datasetVersion"
    }
   ],
   "dockerImageVersionId": 30407,
   "isGpuEnabled": false,
   "isInternetEnabled": false,
   "language": "python",
   "sourceType": "notebook"
  },
  "kernelspec": {
   "display_name": "Python 3",
   "language": "python",
   "name": "python3"
  },
  "language_info": {
   "codemirror_mode": {
    "name": "ipython",
    "version": 3
   },
   "file_extension": ".py",
   "mimetype": "text/x-python",
   "name": "python",
   "nbconvert_exporter": "python",
   "pygments_lexer": "ipython3",
   "version": "3.13.1"
  }
 },
 "nbformat": 4,
 "nbformat_minor": 4
}
